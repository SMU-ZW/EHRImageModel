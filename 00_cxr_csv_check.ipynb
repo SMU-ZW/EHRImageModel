{
 "cells": [
  {
   "cell_type": "code",
   "execution_count": 1,
   "id": "5d2e79a4-a49b-4948-b9ba-04d643ff0bc1",
   "metadata": {
    "tags": []
   },
   "outputs": [
    {
     "name": "stderr",
     "output_type": "stream",
     "text": [
      "2025-04-29 14:25:28.696997: E external/local_xla/xla/stream_executor/cuda/cuda_fft.cc:467] Unable to register cuFFT factory: Attempting to register factory for plugin cuFFT when one has already been registered\n",
      "WARNING: All log messages before absl::InitializeLog() is called are written to STDERR\n",
      "E0000 00:00:1745954728.983820 1271041 cuda_dnn.cc:8579] Unable to register cuDNN factory: Attempting to register factory for plugin cuDNN when one has already been registered\n",
      "E0000 00:00:1745954729.077656 1271041 cuda_blas.cc:1407] Unable to register cuBLAS factory: Attempting to register factory for plugin cuBLAS when one has already been registered\n",
      "W0000 00:00:1745954729.840763 1271041 computation_placer.cc:177] computation placer already registered. Please check linkage and avoid linking the same target more than once.\n",
      "W0000 00:00:1745954729.840792 1271041 computation_placer.cc:177] computation placer already registered. Please check linkage and avoid linking the same target more than once.\n",
      "W0000 00:00:1745954729.840794 1271041 computation_placer.cc:177] computation placer already registered. Please check linkage and avoid linking the same target more than once.\n",
      "W0000 00:00:1745954729.840796 1271041 computation_placer.cc:177] computation placer already registered. Please check linkage and avoid linking the same target more than once.\n",
      "2025-04-29 14:25:29.920191: I tensorflow/core/platform/cpu_feature_guard.cc:210] This TensorFlow binary is optimized to use available CPU instructions in performance-critical operations.\n",
      "To enable the following instructions: AVX2 FMA, in other operations, rebuild TensorFlow with the appropriate compiler flags.\n"
     ]
    }
   ],
   "source": [
    "import os\n",
    "from pathlib import Path\n",
    "import numpy as np\n",
    "import pandas as pd\n",
    "import h5py\n",
    "from datetime import datetime\n",
    "import torch\n",
    "import torch.nn as nn\n",
    "import torch.nn.functional as F\n",
    "from torchvision import transforms, models\n",
    "from transformers import ViTFeatureExtractor, ViTModel, ViTConfig\n",
    "import cv2\n",
    "from PIL import Image\n",
    "import matplotlib.pyplot as plt\n",
    "from tqdm import tqdm"
   ]
  },
  {
   "cell_type": "code",
   "execution_count": 2,
   "id": "c508d9d6-769e-4a73-94da-f73517019d9b",
   "metadata": {
    "tags": []
   },
   "outputs": [],
   "source": [
    "data_path = Path('../MIMIC/physionet.org/content/mimic-cxr-jpg/get-zip/2.1.0/mimic-cxr-jpg-chest-radiographs-with-structured-labels-2.1.0')\n",
    "icu_data_path = Path('../MIMIC/MIMICIV/physionet.org/files/mimiciv/3.1/icu')\n",
    "icustay_path = icu_data_path / 'icustays.csv.gz'\n",
    "hosp_data_path = Path('../MIMIC/MIMICIV/physionet.org/files/mimiciv/3.1/hosp')\n",
    "note_path = Path('../MIMIC/MIMICIV/physionet.org/files/mimic-iv-note/2.2/note')\n",
    "discharge_data_path = note_path / 'discharge.csv.gz'\n",
    "radiology_data_path = note_path / 'radiology.csv.gz'"
   ]
  },
  {
   "cell_type": "code",
   "execution_count": 3,
   "id": "c09fc2ad-7760-4f14-aab0-5aea990a9bb9",
   "metadata": {},
   "outputs": [
    {
     "name": "stdout",
     "output_type": "stream",
     "text": [
      "[DIR] .ipynb_checkpoints\n",
      "    mimic-cxr-2.1.0-test-set-labeled-checkpoint.csv\n",
      "IMAGE_FILENAMES\n",
      "LICENSE.txt\n",
      "README\n",
      "SHA256SUMS.txt\n",
      "[DIR] files\n",
      "    [DIR] p10: 6396 items\n",
      "    [DIR] p11: 6571 items\n",
      "    [DIR] p12: 6526 items\n",
      "    [DIR] p13: 6548 items\n",
      "    [DIR] p14: 6506 items\n",
      "    [DIR] p15: 6592 items\n",
      "    [DIR] p16: 6476 items\n",
      "    [DIR] p17: 6642 items\n",
      "    [DIR] p18: 6543 items\n",
      "    [DIR] p19: 6579 items\n",
      "mimic-cxr-2.0.0-chexpert.csv.gz\n",
      "mimic-cxr-2.0.0-metadata.csv.gz\n",
      "mimic-cxr-2.0.0-negbio.csv.gz\n",
      "mimic-cxr-2.0.0-split.csv.gz\n",
      "mimic-cxr-2.1.0-test-set-labeled.csv\n"
     ]
    }
   ],
   "source": [
    "def list_files_in_directory(directory, level=0, max_depth=2):\n",
    "    if level >= max_depth:\n",
    "        return\n",
    "    \n",
    "    for item in sorted(directory.iterdir()):\n",
    "        indent = '    ' * level\n",
    "        if item.is_dir():\n",
    "            if level == max_depth - 1:\n",
    "                count = sum(1 for _ in item.iterdir())\n",
    "                print(f\"{indent}[DIR] {item.name}: {count} items\")\n",
    "            else:\n",
    "                print(f\"{indent}[DIR] {item.name}\")\n",
    "                list_files_in_directory(item, level + 1, max_depth)\n",
    "        else:\n",
    "            print(f\"{indent}{item.name}\")\n",
    "\n",
    "if data_path.exists():\n",
    "    list_files_in_directory(data_path, max_depth=2)\n",
    "else:\n",
    "    print(f\"Directory '{data_path}' does not exist.\")"
   ]
  },
  {
   "cell_type": "code",
   "execution_count": 4,
   "id": "763a30be-2b0c-4fc5-b35e-abb8c05cec65",
   "metadata": {},
   "outputs": [
    {
     "name": "stdout",
     "output_type": "stream",
     "text": [
      "DataFrame Info:\n",
      "<class 'pandas.core.frame.DataFrame'>\n",
      "RangeIndex: 377110 entries, 0 to 377109\n",
      "Data columns (total 12 columns):\n",
      " #   Column                                      Non-Null Count   Dtype  \n",
      "---  ------                                      --------------   -----  \n",
      " 0   dicom_id                                    377110 non-null  object \n",
      " 1   subject_id                                  377110 non-null  int64  \n",
      " 2   study_id                                    377110 non-null  int64  \n",
      " 3   PerformedProcedureStepDescription           341598 non-null  object \n",
      " 4   ViewPosition                                361341 non-null  object \n",
      " 5   Rows                                        377110 non-null  int64  \n",
      " 6   Columns                                     377110 non-null  int64  \n",
      " 7   StudyDate                                   377110 non-null  int64  \n",
      " 8   StudyTime                                   377110 non-null  float64\n",
      " 9   ProcedureCodeSequence_CodeMeaning           377110 non-null  object \n",
      " 10  ViewCodeSequence_CodeMeaning                360613 non-null  object \n",
      " 11  PatientOrientationCodeSequence_CodeMeaning  335944 non-null  object \n",
      "dtypes: float64(1), int64(5), object(6)\n",
      "memory usage: 34.5+ MB\n",
      "None\n",
      "\n",
      "First 5 Rows:\n",
      "                                       dicom_id  subject_id  study_id  \\\n",
      "0  02aa804e-bde0afdd-112c0b34-7bc16630-4e384014    10000032  50414267   \n",
      "1  174413ec-4ec4c1f7-34ea26b7-c5f994f8-79ef1962    10000032  50414267   \n",
      "2  2a2277a9-b0ded155-c0de8eb9-c124d10e-82c5caab    10000032  53189527   \n",
      "3  e084de3b-be89b11e-20fe3f9f-9c8d8dfe-4cfd202c    10000032  53189527   \n",
      "4  68b5c4b1-227d0485-9cc38c3f-7b84ab51-4b472714    10000032  53911762   \n",
      "\n",
      "  PerformedProcedureStepDescription ViewPosition  Rows  Columns  StudyDate  \\\n",
      "0                CHEST (PA AND LAT)           PA  3056     2544   21800506   \n",
      "1                CHEST (PA AND LAT)      LATERAL  3056     2544   21800506   \n",
      "2                CHEST (PA AND LAT)           PA  3056     2544   21800626   \n",
      "3                CHEST (PA AND LAT)      LATERAL  3056     2544   21800626   \n",
      "4               CHEST (PORTABLE AP)           AP  2705     2539   21800723   \n",
      "\n",
      "    StudyTime ProcedureCodeSequence_CodeMeaning ViewCodeSequence_CodeMeaning  \\\n",
      "0  213014.531                CHEST (PA AND LAT)             postero-anterior   \n",
      "1  213014.531                CHEST (PA AND LAT)                      lateral   \n",
      "2  165500.312                CHEST (PA AND LAT)             postero-anterior   \n",
      "3  165500.312                CHEST (PA AND LAT)                      lateral   \n",
      "4   80556.875               CHEST (PORTABLE AP)             antero-posterior   \n",
      "\n",
      "  PatientOrientationCodeSequence_CodeMeaning  \n",
      "0                                      Erect  \n",
      "1                                      Erect  \n",
      "2                                      Erect  \n",
      "3                                      Erect  \n",
      "4                                        NaN  \n",
      "\n",
      "Column Names:\n",
      "['dicom_id', 'subject_id', 'study_id', 'PerformedProcedureStepDescription', 'ViewPosition', 'Rows', 'Columns', 'StudyDate', 'StudyTime', 'ProcedureCodeSequence_CodeMeaning', 'ViewCodeSequence_CodeMeaning', 'PatientOrientationCodeSequence_CodeMeaning']\n",
      "\n",
      "Data Types and Non-Null Value Count:\n",
      "dicom_id                                       object\n",
      "subject_id                                      int64\n",
      "study_id                                        int64\n",
      "PerformedProcedureStepDescription              object\n",
      "ViewPosition                                   object\n",
      "Rows                                            int64\n",
      "Columns                                         int64\n",
      "StudyDate                                       int64\n",
      "StudyTime                                     float64\n",
      "ProcedureCodeSequence_CodeMeaning              object\n",
      "ViewCodeSequence_CodeMeaning                   object\n",
      "PatientOrientationCodeSequence_CodeMeaning     object\n",
      "dtype: object\n",
      "\n",
      "Numeric Column Statistics:\n",
      "         subject_id      study_id           Rows        Columns     StudyDate  \\\n",
      "count  3.771100e+05  3.771100e+05  377110.000000  377110.000000  3.771100e+05   \n",
      "mean   1.500806e+07  5.500557e+07    2695.528310    2485.837411  2.157359e+07   \n",
      "std    2.879640e+06  2.886680e+06     429.019841     408.512273  2.400854e+05   \n",
      "min    1.000003e+07  5.000001e+07     697.000000     776.000000  2.110011e+07   \n",
      "25%    1.250332e+07  5.250335e+07    2539.000000    2484.000000  2.137122e+07   \n",
      "50%    1.501928e+07  5.501290e+07    3050.000000    2544.000000  2.157113e+07   \n",
      "75%    1.749247e+07  5.750598e+07    3056.000000    2544.000000  2.177083e+07   \n",
      "max    1.999999e+07  5.999992e+07    4280.000000    4280.000000  2.208121e+07   \n",
      "\n",
      "           StudyTime  \n",
      "count  377110.000000  \n",
      "mean   129744.645843  \n",
      "std     57489.613287  \n",
      "min         0.187000  \n",
      "25%     93015.925500  \n",
      "50%    133303.491500  \n",
      "75%    171558.718000  \n",
      "max    235959.437000  \n",
      "\n",
      "Unique Value Count per Column:\n",
      "dicom_id                                      377110\n",
      "subject_id                                     65379\n",
      "study_id                                      227835\n",
      "PerformedProcedureStepDescription                 47\n",
      "ViewPosition                                      14\n",
      "Rows                                            1523\n",
      "Columns                                         1802\n",
      "StudyDate                                      34846\n",
      "StudyTime                                     212767\n",
      "ProcedureCodeSequence_CodeMeaning                 27\n",
      "ViewCodeSequence_CodeMeaning                       7\n",
      "PatientOrientationCodeSequence_CodeMeaning         2\n",
      "dtype: int64\n"
     ]
    }
   ],
   "source": [
    "# Get all CSV and CSV.GZ files in the directory\n",
    "metadata_path = Path('../MIMIC/physionet.org/content/mimic-cxr-jpg/get-zip/2.1.0/mimic-cxr-jpg-chest-radiographs-with-structured-labels-2.1.0/mimic-cxr-2.0.0-metadata.csv.gz')\n",
    "\n",
    "df = pd.read_csv(metadata_path, compression=\"gzip\" if metadata_path.suffix == \".gz\" else None)\n",
    "    \n",
    "# Print DataFrame basic information\n",
    "print(\"DataFrame Info:\")\n",
    "print(df.info())\n",
    "\n",
    "# Print the first 5 rows\n",
    "print(\"\\nFirst 5 Rows:\")\n",
    "print(df.head())\n",
    "\n",
    "# Print column names\n",
    "print(\"\\nColumn Names:\")\n",
    "print(df.columns.tolist())\n",
    "\n",
    "# Print data types and non-null values count\n",
    "print(\"\\nData Types and Non-Null Value Count:\")\n",
    "print(df.dtypes)\n",
    "\n",
    "# Print descriptive statistics for numeric columns\n",
    "print(\"\\nNumeric Column Statistics:\")\n",
    "print(df.describe())\n",
    "\n",
    "# Print unique value counts for each column\n",
    "print(\"\\nUnique Value Count per Column:\")\n",
    "print(df.nunique())\n"
   ]
  },
  {
   "cell_type": "code",
   "execution_count": 5,
   "id": "95aabc49-f051-4f2b-b53a-d9e40fbc2c48",
   "metadata": {
    "tags": []
   },
   "outputs": [
    {
     "name": "stdout",
     "output_type": "stream",
     "text": [
      "DataFrame Info:\n",
      "<class 'pandas.core.frame.DataFrame'>\n",
      "RangeIndex: 377110 entries, 0 to 377109\n",
      "Data columns (total 12 columns):\n",
      " #   Column                                      Non-Null Count   Dtype  \n",
      "---  ------                                      --------------   -----  \n",
      " 0   dicom_id                                    377110 non-null  object \n",
      " 1   subject_id                                  377110 non-null  int64  \n",
      " 2   study_id                                    377110 non-null  int64  \n",
      " 3   PerformedProcedureStepDescription           341598 non-null  object \n",
      " 4   ViewPosition                                361341 non-null  object \n",
      " 5   Rows                                        377110 non-null  int64  \n",
      " 6   Columns                                     377110 non-null  int64  \n",
      " 7   StudyDate                                   377110 non-null  int64  \n",
      " 8   StudyTime                                   377110 non-null  float64\n",
      " 9   ProcedureCodeSequence_CodeMeaning           377110 non-null  object \n",
      " 10  ViewCodeSequence_CodeMeaning                360613 non-null  object \n",
      " 11  PatientOrientationCodeSequence_CodeMeaning  335944 non-null  object \n",
      "dtypes: float64(1), int64(5), object(6)\n",
      "memory usage: 34.5+ MB\n",
      "None\n",
      "\n",
      "First 5 Rows:\n",
      "                                       dicom_id  subject_id  study_id  \\\n",
      "0  02aa804e-bde0afdd-112c0b34-7bc16630-4e384014    10000032  50414267   \n",
      "1  174413ec-4ec4c1f7-34ea26b7-c5f994f8-79ef1962    10000032  50414267   \n",
      "2  2a2277a9-b0ded155-c0de8eb9-c124d10e-82c5caab    10000032  53189527   \n",
      "3  e084de3b-be89b11e-20fe3f9f-9c8d8dfe-4cfd202c    10000032  53189527   \n",
      "4  68b5c4b1-227d0485-9cc38c3f-7b84ab51-4b472714    10000032  53911762   \n",
      "\n",
      "  PerformedProcedureStepDescription ViewPosition  Rows  Columns  StudyDate  \\\n",
      "0                CHEST (PA AND LAT)           PA  3056     2544   21800506   \n",
      "1                CHEST (PA AND LAT)      LATERAL  3056     2544   21800506   \n",
      "2                CHEST (PA AND LAT)           PA  3056     2544   21800626   \n",
      "3                CHEST (PA AND LAT)      LATERAL  3056     2544   21800626   \n",
      "4               CHEST (PORTABLE AP)           AP  2705     2539   21800723   \n",
      "\n",
      "    StudyTime ProcedureCodeSequence_CodeMeaning ViewCodeSequence_CodeMeaning  \\\n",
      "0  213014.531                CHEST (PA AND LAT)             postero-anterior   \n",
      "1  213014.531                CHEST (PA AND LAT)                      lateral   \n",
      "2  165500.312                CHEST (PA AND LAT)             postero-anterior   \n",
      "3  165500.312                CHEST (PA AND LAT)                      lateral   \n",
      "4   80556.875               CHEST (PORTABLE AP)             antero-posterior   \n",
      "\n",
      "  PatientOrientationCodeSequence_CodeMeaning  \n",
      "0                                      Erect  \n",
      "1                                      Erect  \n",
      "2                                      Erect  \n",
      "3                                      Erect  \n",
      "4                                        NaN  \n",
      "\n",
      "Column Names:\n",
      "['dicom_id', 'subject_id', 'study_id', 'PerformedProcedureStepDescription', 'ViewPosition', 'Rows', 'Columns', 'StudyDate', 'StudyTime', 'ProcedureCodeSequence_CodeMeaning', 'ViewCodeSequence_CodeMeaning', 'PatientOrientationCodeSequence_CodeMeaning']\n",
      "\n",
      "Data Types and Non-Null Value Count:\n",
      "dicom_id                                       object\n",
      "subject_id                                      int64\n",
      "study_id                                        int64\n",
      "PerformedProcedureStepDescription              object\n",
      "ViewPosition                                   object\n",
      "Rows                                            int64\n",
      "Columns                                         int64\n",
      "StudyDate                                       int64\n",
      "StudyTime                                     float64\n",
      "ProcedureCodeSequence_CodeMeaning              object\n",
      "ViewCodeSequence_CodeMeaning                   object\n",
      "PatientOrientationCodeSequence_CodeMeaning     object\n",
      "dtype: object\n",
      "\n",
      "Numeric Column Statistics:\n",
      "         subject_id      study_id           Rows        Columns     StudyDate  \\\n",
      "count  3.771100e+05  3.771100e+05  377110.000000  377110.000000  3.771100e+05   \n",
      "mean   1.500806e+07  5.500557e+07    2695.528310    2485.837411  2.157359e+07   \n",
      "std    2.879640e+06  2.886680e+06     429.019841     408.512273  2.400854e+05   \n",
      "min    1.000003e+07  5.000001e+07     697.000000     776.000000  2.110011e+07   \n",
      "25%    1.250332e+07  5.250335e+07    2539.000000    2484.000000  2.137122e+07   \n",
      "50%    1.501928e+07  5.501290e+07    3050.000000    2544.000000  2.157113e+07   \n",
      "75%    1.749247e+07  5.750598e+07    3056.000000    2544.000000  2.177083e+07   \n",
      "max    1.999999e+07  5.999992e+07    4280.000000    4280.000000  2.208121e+07   \n",
      "\n",
      "           StudyTime  \n",
      "count  377110.000000  \n",
      "mean   129744.645843  \n",
      "std     57489.613287  \n",
      "min         0.187000  \n",
      "25%     93015.925500  \n",
      "50%    133303.491500  \n",
      "75%    171558.718000  \n",
      "max    235959.437000  \n",
      "\n",
      "Unique Value Count per Column:\n",
      "dicom_id                                      377110\n",
      "subject_id                                     65379\n",
      "study_id                                      227835\n",
      "PerformedProcedureStepDescription                 47\n",
      "ViewPosition                                      14\n",
      "Rows                                            1523\n",
      "Columns                                         1802\n",
      "StudyDate                                      34846\n",
      "StudyTime                                     212767\n",
      "ProcedureCodeSequence_CodeMeaning                 27\n",
      "ViewCodeSequence_CodeMeaning                       7\n",
      "PatientOrientationCodeSequence_CodeMeaning         2\n",
      "dtype: int64\n"
     ]
    }
   ],
   "source": [
    "# Get all CSV and CSV.GZ files in the directory\n",
    "df_icustay = pd.read_csv(icustay_path, compression=\"gzip\" if metadata_path.suffix == \".gz\" else None)\n",
    "    \n",
    "# Print DataFrame basic information\n",
    "print(\"DataFrame Info:\")\n",
    "print(df.info())\n",
    "\n",
    "# Print the first 5 rows\n",
    "print(\"\\nFirst 5 Rows:\")\n",
    "print(df.head())\n",
    "\n",
    "# Print column names\n",
    "print(\"\\nColumn Names:\")\n",
    "print(df.columns.tolist())\n",
    "\n",
    "# Print data types and non-null values count\n",
    "print(\"\\nData Types and Non-Null Value Count:\")\n",
    "print(df.dtypes)\n",
    "\n",
    "# Print descriptive statistics for numeric columns\n",
    "print(\"\\nNumeric Column Statistics:\")\n",
    "print(df.describe())\n",
    "\n",
    "# Print unique value counts for each column\n",
    "print(\"\\nUnique Value Count per Column:\")\n",
    "print(df.nunique())\n"
   ]
  },
  {
   "cell_type": "code",
   "execution_count": 6,
   "id": "57209a37-3af9-4a28-9853-ec2180a56e72",
   "metadata": {},
   "outputs": [
    {
     "name": "stdout",
     "output_type": "stream",
     "text": [
      "        StudyDate   StudyTime           StudyDateTime\n",
      "0        21800506  213014.531 2180-05-06 21:30:14.531\n",
      "1        21800506  213014.531 2180-05-06 21:30:14.531\n",
      "2        21800626  165500.312 2180-06-26 16:55:00.312\n",
      "3        21800626  165500.312 2180-06-26 16:55:00.312\n",
      "4        21800723   80556.875 2180-07-23 08:05:56.875\n",
      "...           ...         ...                     ...\n",
      "377105   21520708  224550.171 2152-07-08 22:45:50.171\n",
      "377106   21520708  224550.171 2152-07-08 22:45:50.171\n",
      "377107   21451104   51448.218 2145-11-04 05:14:48.218\n",
      "377108   21451102  202809.234 2145-11-02 20:28:09.234\n",
      "377109   21451103   50507.625 2145-11-03 05:05:07.625\n",
      "\n",
      "[377110 rows x 3 columns]\n"
     ]
    }
   ],
   "source": [
    "df[\"StudyDateStr\"] = df[\"StudyDate\"].astype(str)\n",
    "def format_time(t):\n",
    "    try:\n",
    "        t = float(t)\n",
    "        int_part = int(t)\n",
    "        decimal_part = f\"{t:.6f}\".split(\".\")[1]  \n",
    "        int_str = str(int_part).zfill(6)       \n",
    "        return f\"{int_str}.{decimal_part}\"\n",
    "    except:\n",
    "        return \"000000.000000\"\n",
    "df[\"StudyDateStr\"] = df[\"StudyDate\"].astype(str).str.zfill(8)\n",
    "df[\"StudyTimeStr\"] = df[\"StudyTime\"].apply(format_time)\n",
    "\n",
    "df[\"StudyDateTime\"] = pd.to_datetime(\n",
    "    df[\"StudyDateStr\"] + \" \" + df[\"StudyTimeStr\"],\n",
    "    format=\"%Y%m%d %H%M%S.%f\",\n",
    "    errors=\"coerce\"\n",
    ")\n",
    "print(df[[\"StudyDate\", \"StudyTime\", \"StudyDateTime\"]])"
   ]
  },
  {
   "cell_type": "code",
   "execution_count": 7,
   "id": "6544972a-c519-4dca-b726-20f50d8f365d",
   "metadata": {},
   "outputs": [
    {
     "name": "stdout",
     "output_type": "stream",
     "text": [
      "⚠️ 'StudyDateTime' Nat counts: 0\n"
     ]
    }
   ],
   "source": [
    "def report_nat_rows(df, datetime_col=\"StudyDateTime\", preview=5):\n",
    "    if datetime_col not in df.columns:\n",
    "        raise ValueError(f\"❌ '{datetime_col}' is not in DataFrame.\")\n",
    "\n",
    "    nat_rows = df[df[datetime_col].isna()]\n",
    "    count = len(nat_rows)\n",
    "    print(f\"⚠️ '{datetime_col}' Nat counts: {count}\")\n",
    "\n",
    "    if count > 0:\n",
    "        print(f\"\\n📋 First {preview} as：\")\n",
    "        display(nat_rows.head(preview))\n",
    "    \n",
    "    return nat_rows\n",
    "bad_rows = report_nat_rows(df, datetime_col=\"StudyDateTime\")"
   ]
  },
  {
   "cell_type": "code",
   "execution_count": 8,
   "id": "dbc4ddc7-ab0f-448a-8141-aa4ed06db32b",
   "metadata": {},
   "outputs": [],
   "source": [
    "# df[\"StudyDate\"] = pd.to_datetime(df[\"StudyDate\"].astype(str), format=\"%Y%m%d\", errors=\"coerce\")\n",
    "df_sorted = df.sort_values(by=[\"subject_id\", \"StudyDateTime\",\"ViewPosition\"])\n",
    "df_sorted[\"order\"] = df_sorted.groupby(\"subject_id\").cumcount() + 1\n",
    "# df_sorted = df_sorted[df_sorted[\"ViewPosition\"] == \"AP\"]\n",
    "df_final = df_sorted[[\"subject_id\", \"study_id\", \"StudyDateTime\" ,\"dicom_id\", \"ViewPosition\" ,\"order\"]]"
   ]
  },
  {
   "cell_type": "code",
   "execution_count": 9,
   "id": "8979e805-326d-4ec3-b639-56009df4daa4",
   "metadata": {},
   "outputs": [
    {
     "data": {
      "text/html": [
       "<div>\n",
       "<style scoped>\n",
       "    .dataframe tbody tr th:only-of-type {\n",
       "        vertical-align: middle;\n",
       "    }\n",
       "\n",
       "    .dataframe tbody tr th {\n",
       "        vertical-align: top;\n",
       "    }\n",
       "\n",
       "    .dataframe thead th {\n",
       "        text-align: right;\n",
       "    }\n",
       "</style>\n",
       "<table border=\"1\" class=\"dataframe\">\n",
       "  <thead>\n",
       "    <tr style=\"text-align: right;\">\n",
       "      <th></th>\n",
       "      <th>subject_id</th>\n",
       "      <th>study_id</th>\n",
       "      <th>StudyDateTime</th>\n",
       "      <th>dicom_id</th>\n",
       "      <th>ViewPosition</th>\n",
       "      <th>order</th>\n",
       "    </tr>\n",
       "  </thead>\n",
       "  <tbody>\n",
       "    <tr>\n",
       "      <th>1</th>\n",
       "      <td>10000032</td>\n",
       "      <td>50414267</td>\n",
       "      <td>2180-05-06 21:30:14.531</td>\n",
       "      <td>174413ec-4ec4c1f7-34ea26b7-c5f994f8-79ef1962</td>\n",
       "      <td>LATERAL</td>\n",
       "      <td>1</td>\n",
       "    </tr>\n",
       "    <tr>\n",
       "      <th>0</th>\n",
       "      <td>10000032</td>\n",
       "      <td>50414267</td>\n",
       "      <td>2180-05-06 21:30:14.531</td>\n",
       "      <td>02aa804e-bde0afdd-112c0b34-7bc16630-4e384014</td>\n",
       "      <td>PA</td>\n",
       "      <td>2</td>\n",
       "    </tr>\n",
       "    <tr>\n",
       "      <th>3</th>\n",
       "      <td>10000032</td>\n",
       "      <td>53189527</td>\n",
       "      <td>2180-06-26 16:55:00.312</td>\n",
       "      <td>e084de3b-be89b11e-20fe3f9f-9c8d8dfe-4cfd202c</td>\n",
       "      <td>LATERAL</td>\n",
       "      <td>3</td>\n",
       "    </tr>\n",
       "    <tr>\n",
       "      <th>2</th>\n",
       "      <td>10000032</td>\n",
       "      <td>53189527</td>\n",
       "      <td>2180-06-26 16:55:00.312</td>\n",
       "      <td>2a2277a9-b0ded155-c0de8eb9-c124d10e-82c5caab</td>\n",
       "      <td>PA</td>\n",
       "      <td>4</td>\n",
       "    </tr>\n",
       "    <tr>\n",
       "      <th>4</th>\n",
       "      <td>10000032</td>\n",
       "      <td>53911762</td>\n",
       "      <td>2180-07-23 08:05:56.875</td>\n",
       "      <td>68b5c4b1-227d0485-9cc38c3f-7b84ab51-4b472714</td>\n",
       "      <td>AP</td>\n",
       "      <td>5</td>\n",
       "    </tr>\n",
       "    <tr>\n",
       "      <th>5</th>\n",
       "      <td>10000032</td>\n",
       "      <td>53911762</td>\n",
       "      <td>2180-07-23 08:05:56.875</td>\n",
       "      <td>fffabebf-74fd3a1f-673b6b41-96ec0ac9-2ab69818</td>\n",
       "      <td>AP</td>\n",
       "      <td>6</td>\n",
       "    </tr>\n",
       "    <tr>\n",
       "      <th>6</th>\n",
       "      <td>10000032</td>\n",
       "      <td>56699142</td>\n",
       "      <td>2180-08-05 23:44:24.765</td>\n",
       "      <td>ea030e7a-2e3b1346-bc518786-7a8fd698-f673b44c</td>\n",
       "      <td>AP</td>\n",
       "      <td>7</td>\n",
       "    </tr>\n",
       "    <tr>\n",
       "      <th>7</th>\n",
       "      <td>10000764</td>\n",
       "      <td>57375967</td>\n",
       "      <td>2132-10-15 08:40:47.984</td>\n",
       "      <td>096052b7-d256dc40-453a102b-fa7d01c6-1b22c6b4</td>\n",
       "      <td>AP</td>\n",
       "      <td>1</td>\n",
       "    </tr>\n",
       "    <tr>\n",
       "      <th>8</th>\n",
       "      <td>10000764</td>\n",
       "      <td>57375967</td>\n",
       "      <td>2132-10-15 08:40:47.984</td>\n",
       "      <td>b79e55c3-735ce5ac-64412506-cdc9ea79-f1af521f</td>\n",
       "      <td>LATERAL</td>\n",
       "      <td>2</td>\n",
       "    </tr>\n",
       "    <tr>\n",
       "      <th>9</th>\n",
       "      <td>10000764</td>\n",
       "      <td>57375967</td>\n",
       "      <td>2132-10-15 08:40:47.984</td>\n",
       "      <td>dcfeeac4-1597e318-d0e6736a-8b2c2238-47ac3f1b</td>\n",
       "      <td>LATERAL</td>\n",
       "      <td>3</td>\n",
       "    </tr>\n",
       "  </tbody>\n",
       "</table>\n",
       "</div>"
      ],
      "text/plain": [
       "   subject_id  study_id           StudyDateTime  \\\n",
       "1    10000032  50414267 2180-05-06 21:30:14.531   \n",
       "0    10000032  50414267 2180-05-06 21:30:14.531   \n",
       "3    10000032  53189527 2180-06-26 16:55:00.312   \n",
       "2    10000032  53189527 2180-06-26 16:55:00.312   \n",
       "4    10000032  53911762 2180-07-23 08:05:56.875   \n",
       "5    10000032  53911762 2180-07-23 08:05:56.875   \n",
       "6    10000032  56699142 2180-08-05 23:44:24.765   \n",
       "7    10000764  57375967 2132-10-15 08:40:47.984   \n",
       "8    10000764  57375967 2132-10-15 08:40:47.984   \n",
       "9    10000764  57375967 2132-10-15 08:40:47.984   \n",
       "\n",
       "                                       dicom_id ViewPosition  order  \n",
       "1  174413ec-4ec4c1f7-34ea26b7-c5f994f8-79ef1962      LATERAL      1  \n",
       "0  02aa804e-bde0afdd-112c0b34-7bc16630-4e384014           PA      2  \n",
       "3  e084de3b-be89b11e-20fe3f9f-9c8d8dfe-4cfd202c      LATERAL      3  \n",
       "2  2a2277a9-b0ded155-c0de8eb9-c124d10e-82c5caab           PA      4  \n",
       "4  68b5c4b1-227d0485-9cc38c3f-7b84ab51-4b472714           AP      5  \n",
       "5  fffabebf-74fd3a1f-673b6b41-96ec0ac9-2ab69818           AP      6  \n",
       "6  ea030e7a-2e3b1346-bc518786-7a8fd698-f673b44c           AP      7  \n",
       "7  096052b7-d256dc40-453a102b-fa7d01c6-1b22c6b4           AP      1  \n",
       "8  b79e55c3-735ce5ac-64412506-cdc9ea79-f1af521f      LATERAL      2  \n",
       "9  dcfeeac4-1597e318-d0e6736a-8b2c2238-47ac3f1b      LATERAL      3  "
      ]
     },
     "execution_count": 9,
     "metadata": {},
     "output_type": "execute_result"
    }
   ],
   "source": [
    "df_final.head(10)"
   ]
  },
  {
   "cell_type": "code",
   "execution_count": 10,
   "id": "4beb8266-f6fe-43c0-8a30-1a341f2ef0fd",
   "metadata": {
    "tags": []
   },
   "outputs": [],
   "source": [
    "def report_time_spans(df_sorted, threshold_hours=24):\n",
    "    df_sorted = df_sorted.copy()\n",
    "\n",
    "    if \"StudyDateTime\" not in df_sorted.columns:\n",
    "        raise ValueError(\"❗️Missing 'StudyDateTime' column. Please create it before running this function.\")\n",
    "\n",
    "    df_sorted = df_sorted[df_sorted[\"StudyDateTime\"].notna()] \n",
    "    span_info = []\n",
    "\n",
    "    for subject_id, group in df_sorted.groupby(\"subject_id\"):\n",
    "        group = group.sort_values(\"StudyDateTime\").reset_index(drop=True)\n",
    "        t0 = group[\"StudyDateTime\"].iloc[0]\n",
    "        t1 = group[\"StudyDateTime\"].iloc[-1]\n",
    "        span_hours = (t1 - t0).total_seconds() / 3600 if len(group) > 1 else 0.0\n",
    "\n",
    "        span_info.append({\n",
    "            \"subject_id\": subject_id,\n",
    "            \"start_time\": t0,\n",
    "            \"end_time\": t1,\n",
    "            \"span_hours\": span_hours\n",
    "        })\n",
    "\n",
    "    span_df = pd.DataFrame(span_info)\n",
    "    total = len(span_df)\n",
    "    below_thresh = (span_df[\"span_hours\"] < threshold_hours).sum()\n",
    "    print(f\"✅ {total} subject_ids in total; among them, {below_thresh} have a time span shorter than {threshold_hours} hours ({below_thresh/total:.1%}).\")\n",
    "\n",
    "    return span_df\n",
    "\n",
    "def filter_by_time_window(df, first_24=False, last_24=False, last_48=False, return_df=False):\n",
    "    df = df.copy()\n",
    "    \n",
    "    if \"StudyDateTime\" not in df.columns:\n",
    "        raise ValueError(\"❌ No 'StudyDateTime'\")\n",
    "\n",
    "    df = df[df[\"StudyDateTime\"].notna()] \n",
    "    result_frames = []\n",
    "\n",
    "    for subject_id, group in df.groupby(\"subject_id\"):\n",
    "        group = group.sort_values(\"StudyDateTime\").reset_index(drop=True)\n",
    "\n",
    "        if len(group) == 1:\n",
    "            result_frames.append(group)\n",
    "            continue\n",
    "\n",
    "        t0 = group[\"StudyDateTime\"].iloc[0]\n",
    "        t_end = group[\"StudyDateTime\"].iloc[-1]\n",
    "\n",
    "        group[\"relative_hours_from_start\"] = (group[\"StudyDateTime\"] - t0).dt.total_seconds() / 3600\n",
    "        group[\"relative_hours_to_end\"] = (t_end - group[\"StudyDateTime\"]).dt.total_seconds() / 3600\n",
    "\n",
    "        selected_rows = pd.DataFrame()\n",
    "\n",
    "        if first_24:\n",
    "            selected_rows = pd.concat([selected_rows, group[group[\"relative_hours_from_start\"] <= 24]])\n",
    "\n",
    "        if last_24:\n",
    "            selected_rows = pd.concat([selected_rows, group[group[\"relative_hours_to_end\"] <= 24]])\n",
    "\n",
    "        if last_48:\n",
    "            selected_rows = pd.concat([selected_rows, group[group[\"relative_hours_to_end\"] <= 48]])\n",
    "\n",
    "        if not selected_rows.empty:\n",
    "            result_frames.append(selected_rows)\n",
    "\n",
    "    if result_frames:\n",
    "        combined = pd.concat(result_frames).drop_duplicates()\n",
    "        total = combined[\"dicom_id\"].nunique()\n",
    "        print(f\"✅ Total selected dicom_id: {total}\")\n",
    "        if return_df:\n",
    "            return combined\n",
    "    else:\n",
    "        print(\"⚠️ No time window selected or no StudyDateTime available.\")\n",
    "        if return_df:\n",
    "            return pd.DataFrame()"
   ]
  },
  {
   "cell_type": "code",
   "execution_count": 11,
   "id": "d3604612-c479-4e5b-bf45-0792f147eb0a",
   "metadata": {
    "tags": []
   },
   "outputs": [
    {
     "name": "stdout",
     "output_type": "stream",
     "text": [
      "✅ 65379 subject_ids in total; among them, 34106 have a time span shorter than 24 hours (52.2%).\n"
     ]
    }
   ],
   "source": [
    "span_df = report_time_spans(df_final, threshold_hours=24)"
   ]
  },
  {
   "cell_type": "code",
   "execution_count": 12,
   "id": "7f534ada-11c3-4386-9876-35c45c860039",
   "metadata": {
    "tags": []
   },
   "outputs": [],
   "source": [
    "df_merged = df_final.merge(df_icustay[[\"subject_id\", \"stay_id\", \"intime\" ,\"outtime\",\"los\"]], on='subject_id', how='left')"
   ]
  },
  {
   "cell_type": "code",
   "execution_count": 13,
   "id": "75b610b2-d105-49e9-95cb-b233aac0bf42",
   "metadata": {
    "tags": []
   },
   "outputs": [],
   "source": [
    "# df_merged[df_merged['subject_id'].isin([10000032, 10001217])]"
   ]
  },
  {
   "cell_type": "code",
   "execution_count": 14,
   "id": "da3537b8-6d74-4e60-9f7d-c649b187530f",
   "metadata": {
    "tags": []
   },
   "outputs": [],
   "source": [
    "# df_merged[df_merged['stay_id'].notna()]"
   ]
  },
  {
   "cell_type": "code",
   "execution_count": 15,
   "id": "070b8514-576d-4c20-9bc3-ae7dbff55367",
   "metadata": {
    "tags": []
   },
   "outputs": [],
   "source": [
    "df_merged['StudyDateTime'] = pd.to_datetime(df_merged['StudyDateTime'])\n",
    "df_merged['intime'] = pd.to_datetime(df_merged['intime'])\n",
    "df_merged['outtime'] = pd.to_datetime(df_merged['outtime'])"
   ]
  },
  {
   "cell_type": "code",
   "execution_count": 16,
   "id": "4b15642d-3b24-4e9e-bf43-8c024bfe7b37",
   "metadata": {
    "tags": []
   },
   "outputs": [],
   "source": [
    "no_icu_count = df_merged['stay_id'].isna().sum()\n",
    "icu_counts = df_merged.dropna(subset=['stay_id']).groupby('subject_id')['stay_id'].nunique()\n",
    "more_than_once_icu = (icu_counts > 1).sum()\n",
    "df_has_icu = df_merged[df_merged['stay_id'].notna()]\n",
    "before_icu = df_has_icu[df_has_icu['StudyDateTime'] < df_has_icu['intime']].shape[0]\n",
    "within_icu = df_has_icu[(df_has_icu['StudyDateTime'] >= df_has_icu['intime']) & \n",
    "                        (df_has_icu['StudyDateTime'] <= df_has_icu['outtime'])].shape[0]\n",
    "after_icu = df_has_icu[df_has_icu['StudyDateTime'] > df_has_icu['outtime']].shape[0]"
   ]
  },
  {
   "cell_type": "code",
   "execution_count": 17,
   "id": "6a3fd2b7-1c85-468e-9b23-b8f62d48eafe",
   "metadata": {
    "tags": []
   },
   "outputs": [
    {
     "name": "stdout",
     "output_type": "stream",
     "text": [
      "Summary:\n",
      "1. Number of images without an ICU stay: 178089\n",
      "2. Number of subject_ids with more than one ICU stay: 7186\n",
      "3. Distribution of StudyDateTime relative to ICU stay:\n",
      "   - Before ICU stay: 257099\n",
      "   - During ICU stay: 59415\n",
      "   - After ICU stay: 210609\n"
     ]
    }
   ],
   "source": [
    "print(\"Summary:\")\n",
    "print(f\"1. Number of images without an ICU stay: {no_icu_count}\")\n",
    "print(f\"2. Number of subject_ids with more than one ICU stay: {more_than_once_icu}\")\n",
    "print(f\"3. Distribution of StudyDateTime relative to ICU stay:\")\n",
    "print(f\"   - Before ICU stay: {before_icu}\")\n",
    "print(f\"   - During ICU stay: {within_icu}\")\n",
    "print(f\"   - After ICU stay: {after_icu}\")\n"
   ]
  },
  {
   "cell_type": "code",
   "execution_count": 18,
   "id": "f1d4eef3-6529-403c-92bd-3d0ce1d8cc6d",
   "metadata": {
    "tags": []
   },
   "outputs": [
    {
     "name": "stdout",
     "output_type": "stream",
     "text": [
      "Summary:\n",
      "1. Number of images without an ICU stay: 178089\n",
      "2. Distribution of StudyDateTime relative to the first ICU stay:\n",
      "   - Before first ICU stay: 55906\n",
      "   - During first ICU stay: 37816\n",
      "   - After first ICU stay: 105299\n"
     ]
    }
   ],
   "source": [
    "first_icu = (\n",
    "    df_merged[df_merged['stay_id'].notna()]\n",
    "    .sort_values(['subject_id', 'intime']) \n",
    "    .drop_duplicates(subset='subject_id', keep='first') \n",
    ")\n",
    "df_first_icu = df_merged[['subject_id', 'StudyDateTime', 'dicom_id', 'ViewPosition', 'order']].drop_duplicates()\n",
    "df_first_icu = df_first_icu.merge(\n",
    "    first_icu[['subject_id', 'stay_id', 'intime', 'outtime', 'los']], \n",
    "    on='subject_id', how='left'\n",
    ")\n",
    "df_first_icu['StudyDateTime'] = pd.to_datetime(df_first_icu['StudyDateTime'])\n",
    "df_first_icu['intime'] = pd.to_datetime(df_first_icu['intime'])\n",
    "df_first_icu['outtime'] = pd.to_datetime(df_first_icu['outtime'])\n",
    "\n",
    "no_icu_count = df_first_icu['stay_id'].isna().sum()\n",
    "\n",
    "before_icu = df_first_icu[df_first_icu['StudyDateTime'] < df_first_icu['intime']].shape[0]\n",
    "within_icu = df_first_icu[(df_first_icu['StudyDateTime'] >= df_first_icu['intime']) &\n",
    "                          (df_first_icu['StudyDateTime'] <= df_first_icu['outtime'])].shape[0]\n",
    "after_icu = df_first_icu[df_first_icu['StudyDateTime'] > df_first_icu['outtime']].shape[0]\n",
    "\n",
    "print(\"Summary:\")\n",
    "print(f\"1. Number of images without an ICU stay: {no_icu_count}\")\n",
    "print(f\"2. Distribution of StudyDateTime relative to the first ICU stay:\")\n",
    "print(f\"   - Before first ICU stay: {before_icu}\")\n",
    "print(f\"   - During first ICU stay: {within_icu}\")\n",
    "print(f\"   - After first ICU stay: {after_icu}\")"
   ]
  },
  {
   "cell_type": "code",
   "execution_count": 19,
   "id": "df5a2968-0cbd-4848-b7b9-f797d08e0a4a",
   "metadata": {},
   "outputs": [
    {
     "name": "stdout",
     "output_type": "stream",
     "text": [
      "Summary:\n",
      "1. Total unique subject_ids: 65379\n",
      "2. Number of subject_ids with more than one ICU stay: 7186\n",
      "3. Unique subject_id counts by StudyDateTime (relative to first ICU stay):\n",
      "   - Before first ICU stay: 12739\n",
      "   - During first ICU stay: 9333\n",
      "   - After first ICU stay: 11910\n",
      "   - No ICU stay: 45277\n"
     ]
    }
   ],
   "source": [
    "before_icu_ids = df_first_icu[df_first_icu['StudyDateTime'] < df_first_icu['intime']]['subject_id'].unique()\n",
    "within_icu_ids = df_first_icu[\n",
    "    (df_first_icu['StudyDateTime'] >= df_first_icu['intime']) &\n",
    "    (df_first_icu['StudyDateTime'] <= df_first_icu['outtime'])\n",
    "]['subject_id'].unique()\n",
    "after_icu_ids = df_first_icu[df_first_icu['StudyDateTime'] > df_first_icu['outtime']]['subject_id'].unique()\n",
    "total_unique_subjects = df_first_icu['subject_id'].nunique()\n",
    "no_icu_ids = df_first_icu[df_first_icu['stay_id'].isna()]['subject_id'].unique()\n",
    "num_no_icu = len(no_icu_ids)\n",
    "print(\"Summary:\")\n",
    "print(f\"1. Total unique subject_ids: {total_unique_subjects}\")\n",
    "print(f\"2. Number of subject_ids with more than one ICU stay: {more_than_once_icu}\")\n",
    "print(f\"3. Unique subject_id counts by StudyDateTime (relative to first ICU stay):\")\n",
    "print(f\"   - Before first ICU stay: {len(before_icu_ids)}\")\n",
    "print(f\"   - During first ICU stay: {len(within_icu_ids)}\")\n",
    "print(f\"   - After first ICU stay: {len(after_icu_ids)}\")\n",
    "print(f\"   - No ICU stay: {len(no_icu_ids)}\")"
   ]
  },
  {
   "cell_type": "code",
   "execution_count": 20,
   "id": "6b22783e-24e4-4dde-b6c0-f5ede30d2810",
   "metadata": {
    "tags": []
   },
   "outputs": [
    {
     "name": "stdout",
     "output_type": "stream",
     "text": [
      "Summary (exclude duplicates):\n",
      "1. Total unique subject_ids: 65379\n",
      "2. Number of subject_ids with more than one ICU stay: 7186\n",
      "3. Unique subject_id counts by StudyDateTime (relative to first ICU stay):\n",
      "   - Before first ICU stay: 12739\n",
      "   - During first ICU stay: 9333\n",
      "   - After first ICU stay: 11910\n",
      "   - No ICU stay (never appeared in ICU at all): 45277\n"
     ]
    }
   ],
   "source": [
    "has_icu_ids = df_first_icu[df_first_icu['stay_id'].notna()]['subject_id'].unique()\n",
    "\n",
    "true_no_icu_ids = set(no_icu_ids) - set(has_icu_ids)\n",
    "num_true_no_icu = len(true_no_icu_ids)\n",
    "\n",
    "print(\"Summary (exclude duplicates):\")\n",
    "print(f\"1. Total unique subject_ids: {total_unique_subjects}\")\n",
    "print(f\"2. Number of subject_ids with more than one ICU stay: {more_than_once_icu}\")\n",
    "print(f\"3. Unique subject_id counts by StudyDateTime (relative to first ICU stay):\")\n",
    "print(f\"   - Before first ICU stay: {len(before_icu_ids)}\")\n",
    "print(f\"   - During first ICU stay: {len(within_icu_ids)}\")\n",
    "print(f\"   - After first ICU stay: {len(after_icu_ids)}\")\n",
    "print(f\"   - No ICU stay (never appeared in ICU at all): {num_true_no_icu}\")"
   ]
  },
  {
   "cell_type": "code",
   "execution_count": 21,
   "id": "3577ce32-100a-4fba-a0df-0cc7a02d3fb7",
   "metadata": {},
   "outputs": [
    {
     "name": "stdout",
     "output_type": "stream",
     "text": [
      "Discharge note subject count: 145914\n",
      "Radiology note subject count: 237427\n",
      "Total unique subjects with notes: 245952\n"
     ]
    }
   ],
   "source": [
    "df_discharge = pd.read_csv(discharge_data_path)\n",
    "df_radiology = pd.read_csv(radiology_data_path)\n",
    "\n",
    "df_discharge = df_discharge[df_discharge['text'].notna()]\n",
    "df_radiology = df_radiology[df_radiology['text'].notna()]\n",
    "\n",
    "discharge_ids = set(df_discharge['subject_id'].unique())\n",
    "radiology_ids = set(df_radiology['subject_id'].unique())\n",
    "\n",
    "all_note_subjects = discharge_ids.union(radiology_ids)\n",
    "\n",
    "print(f\"Discharge note subject count: {len(discharge_ids)}\")\n",
    "print(f\"Radiology note subject count: {len(radiology_ids)}\")\n",
    "print(f\"Total unique subjects with notes: {len(all_note_subjects)}\")"
   ]
  },
  {
   "cell_type": "code",
   "execution_count": 22,
   "id": "08390755-92f3-4e0a-b857-8e5a14f42385",
   "metadata": {
    "tags": []
   },
   "outputs": [],
   "source": [
    "# df_discharge"
   ]
  },
  {
   "cell_type": "code",
   "execution_count": 23,
   "id": "37129e97-50cf-4d3b-b1f7-d0eff9f8d690",
   "metadata": {
    "tags": []
   },
   "outputs": [],
   "source": [
    "# df_radiology"
   ]
  },
  {
   "cell_type": "code",
   "execution_count": 24,
   "id": "523fab99-0d53-4d88-b7e7-b86abd9df606",
   "metadata": {
    "tags": []
   },
   "outputs": [
    {
     "name": "stdout",
     "output_type": "stream",
     "text": [
      "          note_id  subject_id     hadm_id  note_type  note_seq  charttime  \\\n",
      "0  10000032-DS-21    10000032  22595853.0  discharge        21 2180-05-07   \n",
      "1  10000032-DS-22    10000032  22841357.0  discharge        22 2180-06-27   \n",
      "2  10000032-DS-23    10000032  29079034.0  discharge        23 2180-07-25   \n",
      "3  10000032-DS-24    10000032  25742920.0  discharge        24 2180-08-07   \n",
      "4  10000084-DS-17    10000084  23052089.0  discharge        17 2160-11-25   \n",
      "\n",
      "             storetime                                               text  \n",
      "0  2180-05-09 15:26:00   \\nName:  ___                     Unit No:   _...  \n",
      "1  2180-07-01 10:15:00   \\nName:  ___                     Unit No:   _...  \n",
      "2  2180-07-25 21:42:00   \\nName:  ___                     Unit No:   _...  \n",
      "3  2180-08-10 05:43:00   \\nName:  ___                     Unit No:   _...  \n",
      "4  2160-11-25 15:09:00   \\nName:  ___                    Unit No:   __...  \n"
     ]
    }
   ],
   "source": [
    "df_discharge['note_type'] = 'discharge'\n",
    "df_radiology['note_type'] = 'radiology'\n",
    "\n",
    "df_note = pd.concat([df_discharge, df_radiology], ignore_index=True)\n",
    "\n",
    "df_note['charttime'] = pd.to_datetime(df_note['charttime'])\n",
    "\n",
    "df_note = df_note[df_note['text'].notna()]\n",
    "\n",
    "print(df_note.head())"
   ]
  },
  {
   "cell_type": "code",
   "execution_count": 25,
   "id": "0dc89156-c65c-4536-b11f-627260d44d7c",
   "metadata": {
    "tags": []
   },
   "outputs": [
    {
     "name": "stdout",
     "output_type": "stream",
     "text": [
      "Summary:\n",
      "1. Total unique subject_ids: 65379\n",
      "2. Before first ICU stay with notes: 12738\n",
      "3. During first ICU stay with notes: 9333\n",
      "4. After first ICU stay with notes: 11910\n",
      "5. No ICU stay at all with notes: 41640\n"
     ]
    }
   ],
   "source": [
    "note_ids = set(df_note['subject_id'].unique())\n",
    "\n",
    "before_with_notes = set(before_icu_ids) & note_ids\n",
    "within_with_notes = set(within_icu_ids) & note_ids\n",
    "after_with_notes = set(after_icu_ids) & note_ids\n",
    "true_no_icu_with_notes = true_no_icu_ids & note_ids \n",
    "\n",
    "print(\"Summary:\")\n",
    "print(f\"1. Total unique subject_ids: {total_unique_subjects}\")\n",
    "# print(f\"2. Number of subject_ids with more than one ICU stay: {more_than_once_icu}\")\n",
    "print(f\"2. Before first ICU stay with notes: {len(before_with_notes)}\")\n",
    "print(f\"3. During first ICU stay with notes: {len(within_with_notes)}\")\n",
    "print(f\"4. After first ICU stay with notes: {len(after_with_notes)}\")\n",
    "print(f\"5. No ICU stay at all with notes: {len(true_no_icu_with_notes)}\")"
   ]
  },
  {
   "cell_type": "code",
   "execution_count": 36,
   "id": "e71e97ea-19fe-4163-943e-f4af2f6234c5",
   "metadata": {
    "tags": []
   },
   "outputs": [
    {
     "name": "stdout",
     "output_type": "stream",
     "text": [
      "In-ICU mortality cohort (based on image before/within first ICU stay + clinical notes):\n",
      "1. Subjects with CXR before or within 24h and clinical note: 15513\n",
      "2. Subjects with CXR before or within 48h and clinical note: 16186\n"
     ]
    }
   ],
   "source": [
    "subjects_with_notes = set(df_note['subject_id'].unique())\n",
    "\n",
    "df_first_icu['StudyDateTime'] = pd.to_datetime(df_first_icu['StudyDateTime'])\n",
    "df_first_icu['intime'] = pd.to_datetime(df_first_icu['intime'])\n",
    "\n",
    "images_within_24h = df_first_icu[\n",
    "    df_first_icu['StudyDateTime'] <= df_first_icu['intime'] + pd.Timedelta(hours=24)\n",
    "]\n",
    "\n",
    "images_within_48h = df_first_icu[\n",
    "    df_first_icu['StudyDateTime'] <= df_first_icu['intime'] + pd.Timedelta(hours=48)\n",
    "]\n",
    "\n",
    "subjects_with_images_24h = set(images_within_24h['subject_id'].unique())\n",
    "subjects_with_images_48h = set(images_within_48h['subject_id'].unique())\n",
    "\n",
    "cohort_subjects_24h = subjects_with_images_24h & subjects_with_notes\n",
    "cohort_subjects_48h = subjects_with_images_48h & subjects_with_notes\n",
    "\n",
    "print(\"In-ICU mortality cohort (based on image before/within first ICU stay + clinical notes):\")\n",
    "print(f\"1. Subjects with CXR before or within 24h and clinical note: {len(cohort_subjects_24h)}\")\n",
    "print(f\"2. Subjects with CXR before or within 48h and clinical note: {len(cohort_subjects_48h)}\")"
   ]
  },
  {
   "cell_type": "code",
   "execution_count": 40,
   "id": "b660e0fb-2cbd-41bd-8c27-09d227608f7d",
   "metadata": {
    "tags": []
   },
   "outputs": [
    {
     "name": "stdout",
     "output_type": "stream",
     "text": [
      "3. Subjects with CXR before or during and clinical note: 16206\n"
     ]
    }
   ],
   "source": [
    "images_within_visit = df_first_icu[\n",
    "    df_first_icu['StudyDateTime'] <= df_first_icu['outtime']\n",
    "]\n",
    "subjects_with_images = set(images_within_visit['subject_id'].unique())\n",
    "cohort_subjects_all = subjects_with_images & subjects_with_notes\n",
    "print(f\"3. Subjects with CXR before or during and clinical note: {len(cohort_subjects)}\")"
   ]
  },
  {
   "cell_type": "code",
   "execution_count": 38,
   "id": "d3b81875-ec9c-4e3c-b525-6f76f7f4fa4f",
   "metadata": {
    "tags": []
   },
   "outputs": [
    {
     "name": "stdout",
     "output_type": "stream",
     "text": [
      "Readmission cohort (based on image within last 48h of first ICU stay + clinical notes):\n",
      "Subjects with CXR in last 48h before ICU discharge and clinical note: 9700\n"
     ]
    }
   ],
   "source": [
    "df_first_icu['StudyDateTime'] = pd.to_datetime(df_first_icu['StudyDateTime'])\n",
    "df_first_icu['outtime'] = pd.to_datetime(df_first_icu['outtime'])\n",
    "\n",
    "images_within_last_48h = df_first_icu[\n",
    "    (df_first_icu['StudyDateTime'] <= df_first_icu['outtime']) &\n",
    "    (df_first_icu['StudyDateTime'] >= df_first_icu['outtime'] - pd.Timedelta(hours=48))\n",
    "]\n",
    "\n",
    "subjects_with_images_last_48h = set(images_within_last_48h['subject_id'].unique())\n",
    "\n",
    "cohort_subjects_last_48h = subjects_with_images_last_48h & subjects_with_notes\n",
    "\n",
    "print(\"Readmission cohort (based on image within last 48h of first ICU stay + clinical notes):\")\n",
    "print(f\"Subjects with CXR in last 48h before ICU discharge and clinical note: {len(cohort_subjects_last_48h)}\")"
   ]
  },
  {
   "cell_type": "code",
   "execution_count": 41,
   "id": "5bea9ff5-e272-4607-8b8d-cbd49b11328e",
   "metadata": {},
   "outputs": [],
   "source": [
    "def extract_cxr_metadata_by_subjects(\n",
    "    metadata_path: str,\n",
    "    cohort_24h: set,\n",
    "    cohort_48h: set,\n",
    "    cohort_l48h: set,\n",
    "    cohort_all: set,\n",
    "    output_24h_path: str = \"cxr_f24h_metadata.csv.gz\",\n",
    "    output_48h_path: str = \"cxr_f48h_metadata.csv.gz\",\n",
    "    output_l48h_path: str = \"cxr_l48h_metadata.csv.gz\",\n",
    "    output_all_path: str = \"cxr_all_metadata.csv.gz\"\n",
    "):\n",
    "\n",
    "    df_metadata = pd.read_csv(metadata_path)\n",
    "\n",
    "    df_24h = df_metadata[df_metadata['subject_id'].isin(cohort_24h)]\n",
    "    df_48h = df_metadata[df_metadata['subject_id'].isin(cohort_48h)]\n",
    "    df_l48h = df_metadata[df_metadata['subject_id'].isin(cohort_l48h)]\n",
    "    df_all = df_metadata[df_metadata['subject_id'].isin(cohort_all)]\n",
    "\n",
    "    df_24h.to_csv(output_24h_path, index=False, compression='gzip')\n",
    "    df_48h.to_csv(output_48h_path, index=False, compression='gzip')\n",
    "    df_l48h.to_csv(output_l48h_path, index=False, compression='gzip')\n",
    "    df_all.to_csv(output_all_path, index=False, compression='gzip')\n",
    "\n",
    "    print(f\"✅ Saved {len(df_24h)} rows to {output_24h_path}\")\n",
    "    print(f\"✅ Saved {len(df_48h)} rows to {output_48h_path}\")\n",
    "    print(f\"✅ Saved {len(df_l48h)} rows to {output_l48h_path}\")\n",
    "    print(f\"✅ Saved {len(df_all)} rows to {output_all_path}\")\n"
   ]
  },
  {
   "cell_type": "code",
   "execution_count": 42,
   "id": "03c5650c-7d89-4d48-8b82-f9518823aa6c",
   "metadata": {
    "tags": []
   },
   "outputs": [
    {
     "name": "stdout",
     "output_type": "stream",
     "text": [
      "✅ Saved 155417 rows to cxr_f24h_metadata.csv.gz\n",
      "✅ Saved 160345 rows to cxr_f48h_metadata.csv.gz\n",
      "✅ Saved 104339 rows to cxr_l48h_metadata.csv.gz\n",
      "✅ Saved 160928 rows to cxr_all_metadata.csv.gz\n"
     ]
    }
   ],
   "source": [
    "# extract_cxr_metadata_by_subjects(\n",
    "#     metadata_path=metadata_path,\n",
    "#     cohort_24h=cohort_subjects_24h,\n",
    "#     cohort_48h=cohort_subjects_48h,\n",
    "#     cohort_l48h=cohort_subjects_last_48h,\n",
    "#     cohort_all=cohort_subjects_all,\n",
    "# )"
   ]
  },
  {
   "cell_type": "code",
   "execution_count": 46,
   "id": "cef3a9c5-a93e-47f6-b031-1ebfb2381b0f",
   "metadata": {},
   "outputs": [],
   "source": [
    "def extract_cxr_metadata_by_time(\n",
    "    metadata_path: str,\n",
    "    df_first_icu: pd.DataFrame,\n",
    "    output_24h_path: str = \"cxr_f24h_metadata.csv.gz\",\n",
    "    output_48h_path: str = \"cxr_f48h_metadata.csv.gz\",\n",
    "    output_l48h_path: str = \"cxr_l48h_metadata.csv.gz\",\n",
    "    output_all_path: str = \"cxr_all_metadata.csv.gz\"\n",
    "):\n",
    "    df_metadata = pd.read_csv(metadata_path)\n",
    "    original_columns = df_metadata.columns.tolist() \n",
    "\n",
    "    if 'StudyDateTime' not in df_metadata.columns:\n",
    "        if 'StudyDate' in df_metadata.columns and 'StudyTime' in df_metadata.columns:\n",
    "            df_metadata['StudyDateStr'] = df_metadata['StudyDate'].astype(str).str.zfill(8)\n",
    "\n",
    "            def format_time(t):\n",
    "                try:\n",
    "                    t = float(t)\n",
    "                    int_part = int(t)\n",
    "                    decimal_part = f\"{t:.6f}\".split(\".\")[1]\n",
    "                    int_str = str(int_part).zfill(6)\n",
    "                    return f\"{int_str}.{decimal_part}\"\n",
    "                except:\n",
    "                    return \"000000.000000\"\n",
    "\n",
    "            df_metadata['StudyTimeStr'] = df_metadata['StudyTime'].apply(format_time)\n",
    "            df_metadata['StudyDateTime'] = pd.to_datetime(\n",
    "                df_metadata['StudyDateStr'] + \" \" + df_metadata['StudyTimeStr'],\n",
    "                format=\"%Y%m%d %H%M%S.%f\",\n",
    "                errors='coerce'\n",
    "            )\n",
    "        else:\n",
    "            raise ValueError(\"Metadata missing both 'StudyDateTime' and ('StudyDate', 'StudyTime') to generate StudyDateTime.\")\n",
    "\n",
    "    df_first_icu['intime'] = pd.to_datetime(df_first_icu['intime'])\n",
    "    df_first_icu['outtime'] = pd.to_datetime(df_first_icu['outtime'])\n",
    "\n",
    "    df = df_metadata.merge(df_first_icu[['subject_id', 'intime', 'outtime']], on='subject_id', how='left')\n",
    "\n",
    "    df_24h = df[\n",
    "        df['StudyDateTime'] <= df['intime'] + pd.Timedelta(hours=24)\n",
    "    ]\n",
    "    df_48h = df[\n",
    "        df['StudyDateTime'] <= df['intime'] + pd.Timedelta(hours=48)\n",
    "    ]\n",
    "    df_l48h = df[\n",
    "        (df['StudyDateTime'] <= df['outtime']) &\n",
    "        (df['StudyDateTime'] >= df['outtime'] - pd.Timedelta(hours=48))\n",
    "    ]\n",
    "    df_all = df[\n",
    "        (df['StudyDateTime'] <= df['outtime']) \n",
    "    ]\n",
    "\n",
    "    df_24h[original_columns].to_csv(output_24h_path, index=False, compression='gzip')\n",
    "    df_48h[original_columns].to_csv(output_48h_path, index=False, compression='gzip')\n",
    "    df_l48h[original_columns].to_csv(output_l48h_path, index=False, compression='gzip')\n",
    "    df_all[original_columns].to_csv(output_all_path, index=False, compression='gzip')\n",
    "\n",
    "    print(f\"✅ Saved {len(df_24h)} rows to {output_24h_path}\")\n",
    "    print(f\"✅ Saved {len(df_48h)} rows to {output_48h_path}\")\n",
    "    print(f\"✅ Saved {len(df_l48h)} rows to {output_l48h_path}\")\n",
    "    print(f\"✅ Saved {len(df_all)} rows to {output_all_path}\")"
   ]
  },
  {
   "cell_type": "code",
   "execution_count": 48,
   "id": "cd4ca19d-640a-4d57-9960-e76ce567c7fe",
   "metadata": {
    "tags": []
   },
   "outputs": [
    {
     "name": "stdout",
     "output_type": "stream",
     "text": [
      "✅ Saved 1148785 rows to cxr_filtered_f24h.csv.gz\n",
      "✅ Saved 1262373 rows to cxr_filtered_f48h.csv.gz\n",
      "✅ Saved 211872 rows to cxr_filtered_l48h.csv.gz\n",
      "✅ Saved 1774333 rows to cxr_filtered_all.csv.gz\n"
     ]
    }
   ],
   "source": [
    "extract_cxr_metadata_by_time(\n",
    "    metadata_path=metadata_path,\n",
    "    df_first_icu=df_first_icu,\n",
    "    output_24h_path=\"cxr_filtered_f24h.csv.gz\",\n",
    "    output_48h_path=\"cxr_filtered_f48h.csv.gz\",\n",
    "    output_l48h_path=\"cxr_filtered_l48h.csv.gz\",\n",
    "    output_all_path=\"cxr_filtered_all.csv.gz\"\n",
    ")"
   ]
  },
  {
   "cell_type": "code",
   "execution_count": null,
   "id": "3220a9fa-6c1c-49a0-90a9-0ad2f4f8580f",
   "metadata": {},
   "outputs": [],
   "source": [
    "# drop duplicate"
   ]
  }
 ],
 "metadata": {
  "kernelspec": {
   "display_name": "Python 3 (ipykernel)",
   "language": "python",
   "name": "python3"
  },
  "language_info": {
   "codemirror_mode": {
    "name": "ipython",
    "version": 3
   },
   "file_extension": ".py",
   "mimetype": "text/x-python",
   "name": "python",
   "nbconvert_exporter": "python",
   "pygments_lexer": "ipython3",
   "version": "3.9.22"
  }
 },
 "nbformat": 4,
 "nbformat_minor": 5
}
